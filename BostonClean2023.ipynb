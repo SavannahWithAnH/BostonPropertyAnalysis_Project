{
 "cells": [
  {
   "attachments": {},
   "cell_type": "markdown",
   "metadata": {},
   "source": [
    "# 2023 Bar Chart"
   ]
  },
  {
   "cell_type": "code",
   "execution_count": 2,
   "metadata": {},
   "outputs": [],
   "source": [
    "#import dependencies\n",
    "import pandas as pd\n",
    "import matplotlib.pyplot as plt\n",
    "import numpy as np"
   ]
  },
  {
   "cell_type": "code",
   "execution_count": 3,
   "metadata": {},
   "outputs": [
    {
     "name": "stderr",
     "output_type": "stream",
     "text": [
      "C:\\Users\\savan\\AppData\\Local\\Temp\\ipykernel_9320\\2568155131.py:2: DtypeWarning: Columns (44,53) have mixed types. Specify dtype option on import or set low_memory=False.\n",
      "  clean_data1 =pd.read_csv(\"Boston Property Assesment Data2023.csv\")\n"
     ]
    }
   ],
   "source": [
    "#read in 2023\n",
    "clean_data1 =pd.read_csv(\"Boston Property Assesment Data2023.csv\")"
   ]
  },
  {
   "cell_type": "code",
   "execution_count": 4,
   "metadata": {},
   "outputs": [
    {
     "data": {
      "text/html": [
       "<div>\n",
       "<style scoped>\n",
       "    .dataframe tbody tr th:only-of-type {\n",
       "        vertical-align: middle;\n",
       "    }\n",
       "\n",
       "    .dataframe tbody tr th {\n",
       "        vertical-align: top;\n",
       "    }\n",
       "\n",
       "    .dataframe thead th {\n",
       "        text-align: right;\n",
       "    }\n",
       "</style>\n",
       "<table border=\"1\" class=\"dataframe\">\n",
       "  <thead>\n",
       "    <tr style=\"text-align: right;\">\n",
       "      <th></th>\n",
       "      <th>OWNER</th>\n",
       "      <th>CITY</th>\n",
       "      <th>OWN_OCC</th>\n",
       "      <th>TOTAL_VALUE</th>\n",
       "      <th>GROSS_TAX</th>\n",
       "      <th>YR_BUILT</th>\n",
       "    </tr>\n",
       "  </thead>\n",
       "  <tbody>\n",
       "    <tr>\n",
       "      <th>0</th>\n",
       "      <td>CIOTO ROBERT M</td>\n",
       "      <td>EAST BOSTON</td>\n",
       "      <td>Y</td>\n",
       "      <td>388100</td>\n",
       "      <td>4168.1972</td>\n",
       "      <td>1910.0</td>\n",
       "    </tr>\n",
       "    <tr>\n",
       "      <th>1</th>\n",
       "      <td>BUENROSTRO ROGELIO</td>\n",
       "      <td>EAST BOSTON</td>\n",
       "      <td>Y</td>\n",
       "      <td>530800</td>\n",
       "      <td>5700.7872</td>\n",
       "      <td>1900.0</td>\n",
       "    </tr>\n",
       "    <tr>\n",
       "      <th>2</th>\n",
       "      <td>MARSIGLIA MARILYN G</td>\n",
       "      <td>EAST BOSTON</td>\n",
       "      <td>Y</td>\n",
       "      <td>533600</td>\n",
       "      <td>5730.8672</td>\n",
       "      <td>1920.0</td>\n",
       "    </tr>\n",
       "    <tr>\n",
       "      <th>3</th>\n",
       "      <td>MELCHER JOHN ROB3RT</td>\n",
       "      <td>EAST BOSTON</td>\n",
       "      <td>Y</td>\n",
       "      <td>715400</td>\n",
       "      <td>7683.3972</td>\n",
       "      <td>1900.0</td>\n",
       "    </tr>\n",
       "    <tr>\n",
       "      <th>4</th>\n",
       "      <td>HUBBARD CHARLEY</td>\n",
       "      <td>EAST BOSTON</td>\n",
       "      <td>N</td>\n",
       "      <td>763900</td>\n",
       "      <td>8204.2900</td>\n",
       "      <td>1900.0</td>\n",
       "    </tr>\n",
       "  </tbody>\n",
       "</table>\n",
       "</div>"
      ],
      "text/plain": [
       "                 OWNER         CITY OWN_OCC  TOTAL_VALUE  GROSS_TAX  YR_BUILT\n",
       "0       CIOTO ROBERT M  EAST BOSTON       Y       388100  4168.1972    1910.0\n",
       "1   BUENROSTRO ROGELIO  EAST BOSTON       Y       530800  5700.7872    1900.0\n",
       "2  MARSIGLIA MARILYN G  EAST BOSTON       Y       533600  5730.8672    1920.0\n",
       "3  MELCHER JOHN ROB3RT  EAST BOSTON       Y       715400  7683.3972    1900.0\n",
       "4      HUBBARD CHARLEY  EAST BOSTON       N       763900  8204.2900    1900.0"
      ]
     },
     "execution_count": 4,
     "metadata": {},
     "output_type": "execute_result"
    }
   ],
   "source": [
    "#pull out useful columnns\n",
    "useful_boston1 = clean_data1[['OWNER','CITY','OWN_OCC','TOTAL_VALUE','GROSS_TAX','YR_BUILT']]\n",
    "useful_boston1.head()"
   ]
  },
  {
   "cell_type": "code",
   "execution_count": 11,
   "metadata": {},
   "outputs": [
    {
     "data": {
      "text/html": [
       "<div>\n",
       "<style scoped>\n",
       "    .dataframe tbody tr th:only-of-type {\n",
       "        vertical-align: middle;\n",
       "    }\n",
       "\n",
       "    .dataframe tbody tr th {\n",
       "        vertical-align: top;\n",
       "    }\n",
       "\n",
       "    .dataframe thead th {\n",
       "        text-align: right;\n",
       "    }\n",
       "</style>\n",
       "<table border=\"1\" class=\"dataframe\">\n",
       "  <thead>\n",
       "    <tr style=\"text-align: right;\">\n",
       "      <th></th>\n",
       "      <th>OWNER</th>\n",
       "      <th>CITY</th>\n",
       "      <th>OWN_OCC</th>\n",
       "      <th>TOTAL_VALUE</th>\n",
       "      <th>GROSS_TAX</th>\n",
       "      <th>YR_BUILT</th>\n",
       "    </tr>\n",
       "  </thead>\n",
       "  <tbody>\n",
       "    <tr>\n",
       "      <th>0</th>\n",
       "      <td>CIOTO ROBERT M</td>\n",
       "      <td>EAST BOSTON</td>\n",
       "      <td>Y</td>\n",
       "      <td>388100</td>\n",
       "      <td>4168.1972</td>\n",
       "      <td>1910.0</td>\n",
       "    </tr>\n",
       "    <tr>\n",
       "      <th>1</th>\n",
       "      <td>BUENROSTRO ROGELIO</td>\n",
       "      <td>EAST BOSTON</td>\n",
       "      <td>Y</td>\n",
       "      <td>530800</td>\n",
       "      <td>5700.7872</td>\n",
       "      <td>1900.0</td>\n",
       "    </tr>\n",
       "    <tr>\n",
       "      <th>2</th>\n",
       "      <td>MARSIGLIA MARILYN G</td>\n",
       "      <td>EAST BOSTON</td>\n",
       "      <td>Y</td>\n",
       "      <td>533600</td>\n",
       "      <td>5730.8672</td>\n",
       "      <td>1920.0</td>\n",
       "    </tr>\n",
       "    <tr>\n",
       "      <th>3</th>\n",
       "      <td>MELCHER JOHN ROB3RT</td>\n",
       "      <td>EAST BOSTON</td>\n",
       "      <td>Y</td>\n",
       "      <td>715400</td>\n",
       "      <td>7683.3972</td>\n",
       "      <td>1900.0</td>\n",
       "    </tr>\n",
       "    <tr>\n",
       "      <th>5</th>\n",
       "      <td>YEE STEVEN</td>\n",
       "      <td>EAST BOSTON</td>\n",
       "      <td>Y</td>\n",
       "      <td>567000</td>\n",
       "      <td>6089.5772</td>\n",
       "      <td>1905.0</td>\n",
       "    </tr>\n",
       "  </tbody>\n",
       "</table>\n",
       "</div>"
      ],
      "text/plain": [
       "                 OWNER         CITY OWN_OCC  TOTAL_VALUE  GROSS_TAX  YR_BUILT\n",
       "0       CIOTO ROBERT M  EAST BOSTON       Y       388100  4168.1972    1910.0\n",
       "1   BUENROSTRO ROGELIO  EAST BOSTON       Y       530800  5700.7872    1900.0\n",
       "2  MARSIGLIA MARILYN G  EAST BOSTON       Y       533600  5730.8672    1920.0\n",
       "3  MELCHER JOHN ROB3RT  EAST BOSTON       Y       715400  7683.3972    1900.0\n",
       "5           YEE STEVEN  EAST BOSTON       Y       567000  6089.5772    1905.0"
      ]
     },
     "execution_count": 11,
     "metadata": {},
     "output_type": "execute_result"
    }
   ],
   "source": [
    "#filter out those NOT owner occupied\n",
    "owner_occ = useful_boston1[useful_boston1['OWN_OCC'] == 'Y']\n",
    "owner_occ.head()"
   ]
  },
  {
   "cell_type": "code",
   "execution_count": 12,
   "metadata": {},
   "outputs": [],
   "source": [
    "#create bins\n",
    "size_bins = [0, 249999, 499999, 749999, 999999, 1249999, 1499999, 1749999, 1999999, 2249999, 24999999, 1000000000]\n",
    "group_names = [\"Under 250k\", \"250k-500k\", \"500k-750k\", \"750k-1M\", \"1M-1.25M\", \"1.25M-1.5M\", \"1.5M-1.75M\", \"1.75M-2M\", \"2M-2.25M\", \"2.25M-2.5M\", \"Over 2.5M\"]"
   ]
  },
  {
   "cell_type": "code",
   "execution_count": 13,
   "metadata": {},
   "outputs": [
    {
     "name": "stderr",
     "output_type": "stream",
     "text": [
      "C:\\Users\\savan\\AppData\\Local\\Temp\\ipykernel_9320\\2789541579.py:1: SettingWithCopyWarning: \n",
      "A value is trying to be set on a copy of a slice from a DataFrame.\n",
      "Try using .loc[row_indexer,col_indexer] = value instead\n",
      "\n",
      "See the caveats in the documentation: https://pandas.pydata.org/pandas-docs/stable/user_guide/indexing.html#returning-a-view-versus-a-copy\n",
      "  owner_occ[\"Price Bins\"] =  pd.cut(owner_occ[\"TOTAL_VALUE\"], size_bins, labels=group_names)\n"
     ]
    },
    {
     "data": {
      "text/html": [
       "<div>\n",
       "<style scoped>\n",
       "    .dataframe tbody tr th:only-of-type {\n",
       "        vertical-align: middle;\n",
       "    }\n",
       "\n",
       "    .dataframe tbody tr th {\n",
       "        vertical-align: top;\n",
       "    }\n",
       "\n",
       "    .dataframe thead th {\n",
       "        text-align: right;\n",
       "    }\n",
       "</style>\n",
       "<table border=\"1\" class=\"dataframe\">\n",
       "  <thead>\n",
       "    <tr style=\"text-align: right;\">\n",
       "      <th></th>\n",
       "      <th>OWNER</th>\n",
       "      <th>CITY</th>\n",
       "      <th>OWN_OCC</th>\n",
       "      <th>TOTAL_VALUE</th>\n",
       "      <th>GROSS_TAX</th>\n",
       "      <th>YR_BUILT</th>\n",
       "      <th>Price Bins</th>\n",
       "    </tr>\n",
       "  </thead>\n",
       "  <tbody>\n",
       "    <tr>\n",
       "      <th>0</th>\n",
       "      <td>CIOTO ROBERT M</td>\n",
       "      <td>EAST BOSTON</td>\n",
       "      <td>Y</td>\n",
       "      <td>388100</td>\n",
       "      <td>4168.1972</td>\n",
       "      <td>1910.0</td>\n",
       "      <td>250k-500k</td>\n",
       "    </tr>\n",
       "    <tr>\n",
       "      <th>1</th>\n",
       "      <td>BUENROSTRO ROGELIO</td>\n",
       "      <td>EAST BOSTON</td>\n",
       "      <td>Y</td>\n",
       "      <td>530800</td>\n",
       "      <td>5700.7872</td>\n",
       "      <td>1900.0</td>\n",
       "      <td>500k-750k</td>\n",
       "    </tr>\n",
       "    <tr>\n",
       "      <th>2</th>\n",
       "      <td>MARSIGLIA MARILYN G</td>\n",
       "      <td>EAST BOSTON</td>\n",
       "      <td>Y</td>\n",
       "      <td>533600</td>\n",
       "      <td>5730.8672</td>\n",
       "      <td>1920.0</td>\n",
       "      <td>500k-750k</td>\n",
       "    </tr>\n",
       "    <tr>\n",
       "      <th>3</th>\n",
       "      <td>MELCHER JOHN ROB3RT</td>\n",
       "      <td>EAST BOSTON</td>\n",
       "      <td>Y</td>\n",
       "      <td>715400</td>\n",
       "      <td>7683.3972</td>\n",
       "      <td>1900.0</td>\n",
       "      <td>500k-750k</td>\n",
       "    </tr>\n",
       "    <tr>\n",
       "      <th>5</th>\n",
       "      <td>YEE STEVEN</td>\n",
       "      <td>EAST BOSTON</td>\n",
       "      <td>Y</td>\n",
       "      <td>567000</td>\n",
       "      <td>6089.5772</td>\n",
       "      <td>1905.0</td>\n",
       "      <td>500k-750k</td>\n",
       "    </tr>\n",
       "    <tr>\n",
       "      <th>...</th>\n",
       "      <td>...</td>\n",
       "      <td>...</td>\n",
       "      <td>...</td>\n",
       "      <td>...</td>\n",
       "      <td>...</td>\n",
       "      <td>...</td>\n",
       "      <td>...</td>\n",
       "    </tr>\n",
       "    <tr>\n",
       "      <th>30438</th>\n",
       "      <td>SZABO KIMBERLY S</td>\n",
       "      <td>BRIGHTON</td>\n",
       "      <td>Y</td>\n",
       "      <td>755800</td>\n",
       "      <td>8117.2872</td>\n",
       "      <td>1920.0</td>\n",
       "      <td>750k-1M</td>\n",
       "    </tr>\n",
       "    <tr>\n",
       "      <th>30439</th>\n",
       "      <td>KAPILIAN RALPH H TS</td>\n",
       "      <td>BRIGHTON</td>\n",
       "      <td>Y</td>\n",
       "      <td>886800</td>\n",
       "      <td>9524.2272</td>\n",
       "      <td>1920.0</td>\n",
       "      <td>750k-1M</td>\n",
       "    </tr>\n",
       "    <tr>\n",
       "      <th>30440</th>\n",
       "      <td>RUFO GLORIA J</td>\n",
       "      <td>BRIGHTON</td>\n",
       "      <td>Y</td>\n",
       "      <td>1057800</td>\n",
       "      <td>11360.7672</td>\n",
       "      <td>1910.0</td>\n",
       "      <td>1M-1.25M</td>\n",
       "    </tr>\n",
       "    <tr>\n",
       "      <th>30441</th>\n",
       "      <td>HURWITCH SANDRA LEE</td>\n",
       "      <td>BRIGHTON</td>\n",
       "      <td>Y</td>\n",
       "      <td>844600</td>\n",
       "      <td>9071.0072</td>\n",
       "      <td>1920.0</td>\n",
       "      <td>750k-1M</td>\n",
       "    </tr>\n",
       "    <tr>\n",
       "      <th>30442</th>\n",
       "      <td>MCGOVERN DENNIS</td>\n",
       "      <td>BRIGHTON</td>\n",
       "      <td>Y</td>\n",
       "      <td>887200</td>\n",
       "      <td>9528.5272</td>\n",
       "      <td>1920.0</td>\n",
       "      <td>750k-1M</td>\n",
       "    </tr>\n",
       "  </tbody>\n",
       "</table>\n",
       "<p>25410 rows × 7 columns</p>\n",
       "</div>"
      ],
      "text/plain": [
       "                     OWNER         CITY OWN_OCC  TOTAL_VALUE   GROSS_TAX  \\\n",
       "0           CIOTO ROBERT M  EAST BOSTON       Y       388100   4168.1972   \n",
       "1       BUENROSTRO ROGELIO  EAST BOSTON       Y       530800   5700.7872   \n",
       "2      MARSIGLIA MARILYN G  EAST BOSTON       Y       533600   5730.8672   \n",
       "3      MELCHER JOHN ROB3RT  EAST BOSTON       Y       715400   7683.3972   \n",
       "5               YEE STEVEN  EAST BOSTON       Y       567000   6089.5772   \n",
       "...                    ...          ...     ...          ...         ...   \n",
       "30438     SZABO KIMBERLY S     BRIGHTON       Y       755800   8117.2872   \n",
       "30439  KAPILIAN RALPH H TS     BRIGHTON       Y       886800   9524.2272   \n",
       "30440        RUFO GLORIA J     BRIGHTON       Y      1057800  11360.7672   \n",
       "30441  HURWITCH SANDRA LEE     BRIGHTON       Y       844600   9071.0072   \n",
       "30442      MCGOVERN DENNIS     BRIGHTON       Y       887200   9528.5272   \n",
       "\n",
       "       YR_BUILT Price Bins  \n",
       "0        1910.0  250k-500k  \n",
       "1        1900.0  500k-750k  \n",
       "2        1920.0  500k-750k  \n",
       "3        1900.0  500k-750k  \n",
       "5        1905.0  500k-750k  \n",
       "...         ...        ...  \n",
       "30438    1920.0    750k-1M  \n",
       "30439    1920.0    750k-1M  \n",
       "30440    1910.0   1M-1.25M  \n",
       "30441    1920.0    750k-1M  \n",
       "30442    1920.0    750k-1M  \n",
       "\n",
       "[25410 rows x 7 columns]"
      ]
     },
     "execution_count": 13,
     "metadata": {},
     "output_type": "execute_result"
    }
   ],
   "source": [
    "owner_occ[\"Price Bins\"] =  pd.cut(owner_occ[\"TOTAL_VALUE\"], size_bins, labels=group_names)\n",
    "owner_occ"
   ]
  },
  {
   "cell_type": "code",
   "execution_count": 14,
   "metadata": {},
   "outputs": [
    {
     "data": {
      "text/plain": [
       "Price Bins\n",
       "Under 250k      111\n",
       "250k-500k      6141\n",
       "500k-750k     11375\n",
       "750k-1M        4313\n",
       "1M-1.25M       1658\n",
       "1.25M-1.5M      650\n",
       "1.5M-1.75M      274\n",
       "1.75M-2M        161\n",
       "2M-2.25M        133\n",
       "2.25M-2.5M      593\n",
       "Over 2.5M         1\n",
       "Name: TOTAL_VALUE, dtype: int64"
      ]
     },
     "execution_count": 14,
     "metadata": {},
     "output_type": "execute_result"
    }
   ],
   "source": [
    "#get an individual bin count\n",
    "binned_prices = owner_occ.groupby([\"Price Bins\"]).count()[\"TOTAL_VALUE\"]\n",
    "binned_prices"
   ]
  },
  {
   "cell_type": "code",
   "execution_count": 15,
   "metadata": {},
   "outputs": [
    {
     "name": "stdout",
     "output_type": "stream",
     "text": [
      "The median home value in 2023 was $ 621800.0\n"
     ]
    }
   ],
   "source": [
    "#find median home value\n",
    "median = owner_occ['TOTAL_VALUE'].median()\n",
    "median\n",
    "\n",
    "print(\"The median home value in 2023 was $\",median)"
   ]
  },
  {
   "cell_type": "code",
   "execution_count": 16,
   "metadata": {},
   "outputs": [
    {
     "data": {
      "image/png": "[encoded data removed]",
      "text/plain": [
       "<Figure size 640x480 with 1 Axes>"
      ]
     },
     "metadata": {},
     "output_type": "display_data"
    }
   ],
   "source": [
    "#Chart home values\n",
    "x_axis = np.arange(len(group_names))\n",
    "tick_locations = [value for value in x_axis]\n",
    "\n",
    "plt.bar(x_axis, binned_prices)\n",
    "plt.xticks(tick_locations, group_names, rotation=\"vertical\")\n",
    "plt.xlabel(\"Total Value\")\n",
    "plt.ylabel(\"Number of Homes\")\n",
    "plt.title(\"Boston Home Values 2023\")\n",
    "plt.show()"
   ]
  }
 ],
 "metadata": {
  "kernelspec": {
   "display_name": "PythonData",
   "language": "python",
   "name": "pythondata"
  },
  "language_info": {
   "codemirror_mode": {
    "name": "ipython",
    "version": 3
   },
   "file_extension": ".py",
   "mimetype": "text/x-python",
   "name": "python",
   "nbconvert_exporter": "python",
   "pygments_lexer": "ipython3",
   "version": "3.9.13"
  },
  "orig_nbformat": 4
 },
 "nbformat": 4,
 "nbformat_minor": 2
}
