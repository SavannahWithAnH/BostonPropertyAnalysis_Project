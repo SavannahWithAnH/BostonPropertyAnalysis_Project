{
 "cells": [
  {
   "cell_type": "code",
   "execution_count": null,
   "metadata": {},
   "outputs": [],
   "source": [
    "#import dependencies\n",
    "import pandas as pd\n",
    "import matplotlib.pyplot as plt\n",
    "import numpy as np"
   ]
  },
  {
   "cell_type": "code",
   "execution_count": null,
   "metadata": {},
   "outputs": [],
   "source": [
    "#read in 2023\n",
    "clean_data1 =pd.read_csv(\"Boston Property Assesment Data2023.csv\")"
   ]
  },
  {
   "cell_type": "code",
   "execution_count": null,
   "metadata": {},
   "outputs": [],
   "source": [
    "#pull out useful columnns\n",
    "useful_boston1 = clean_data1[['OWNER','CITY','OWN_OCC','TOTAL_VALUE','GROSS_TAX','YR_BUILT']]\n",
    "useful_boston1"
   ]
  },
  {
   "cell_type": "code",
   "execution_count": null,
   "metadata": {},
   "outputs": [],
   "source": [
    "#filter out those NOT owner occupied\n",
    "owner_occ = useful_boston1[useful_boston1['OWN_OCC'] == 'Y']\n",
    "owner_occ"
   ]
  },
  {
   "cell_type": "code",
   "execution_count": null,
   "metadata": {},
   "outputs": [],
   "source": [
    "#create bins\n",
    "size_bins = [0, 249999, 499999, 749999, 999999, 1249999, 1499999, 1749999, 1999999, 2249999, 24999999, 1000000000]\n",
    "group_names = [\"Under 250k\", \"250k-500k\", \"500k-750k\", \"750k-1M\", \"1M-1.25M\", \"1.25M-1.5M\", \"1.5M-1.75M\", \"1.75M-2M\", \"2M-2.25M\", \"2.25M-2.5M\", \"Over 2.5M\"]"
   ]
  },
  {
   "cell_type": "code",
   "execution_count": null,
   "metadata": {},
   "outputs": [],
   "source": [
    "owner_occ[\"Price Bins\"] =  pd.cut(owner_occ[\"TOTAL_VALUE\"], size_bins, labels=group_names)\n",
    "owner_occ"
   ]
  }
 ],
 "metadata": {
  "kernelspec": {
   "display_name": "base",
   "language": "python",
   "name": "python3"
  },
  "language_info": {
   "name": "python",
   "version": "3.10.9"
  },
  "orig_nbformat": 4
 },
 "nbformat": 4,
 "nbformat_minor": 2
}
