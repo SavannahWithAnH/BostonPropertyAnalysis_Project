{
 "cells": [
  {
   "cell_type": "code",
   "execution_count": null,
   "metadata": {},
   "outputs": [],
   "source": [
    "#importing modules\n",
    "import matplotlib.pyplot as plt\n",
    "import pandas as pd\n",
    "import numpy as np\n",
    "import csv\n",
    "import seaborn as sns"
   ]
  },
  {
   "cell_type": "code",
   "execution_count": null,
   "metadata": {},
   "outputs": [],
   "source": [
    "#Assigning the csv path to a variable\n",
    "csv_path = r\"//home//mo//Documents//UNC//project1//Project1-Group//Boston2019.csv\"\n",
    "\n",
    "#useing pandas to read the file\n",
    "df_read = pd.read_csv(csv_path, low_memory=False )\n",
    "\n",
    "#Cleaning the owner-occupied cloumn\n",
    "df_clean = df_read[(df_read[\"OWN_OCC\"] == \"Y\") & (df_read[\"STRUCTURE_CLASS\"] == \"R\") & (df_read[\"YR_BUILT\"] >= 1900)&(df_read[\"R_BDRMS\"] != 0)]\n",
    "\n",
    "df_clean = df_clean[[\"AV_TOTAL\", \"LIVING_AREA\", \"R_BDRMS\", \"ZIPCODE\",\"OWN_OCC\", \"STRUCTURE_CLASS\" , \"YR_BUILT\",\"R_BLDG_STYL\"]]\n",
    "display(len(df_clean))\n",
    "df_clean\n",
    "\n"
   ]
  },
  {
   "cell_type": "code",
   "execution_count": null,
   "metadata": {},
   "outputs": [],
   "source": [
    "df_clean[\"R_BDRMS\"].unique()"
   ]
  },
  {
   "cell_type": "code",
   "execution_count": null,
   "metadata": {},
   "outputs": [],
   "source": [
    "house_value = df_clean[\"AV_TOTAL\"]\n",
    "living_area = df_clean[\"LIVING_AREA\"]\n",
    "areaVsPrice = sns.regplot(x=house_value , y=living_area,scatter_kws={'alpha':0.15}, fit_reg= False)\n",
    "areaVsPrice.set(xlabel= \"Total Price USD\", ylabel=\"Living Area sq/ft\")\n",
    "#areaVsPrice.set_xticks(range(10))\n",
    "#areaVsPrice.title = \"Living Area Vs Total Price\"\n",
    "areaVsPrice.set_xticklabels(np.arange(house_value.min(), house_value.max() , 1250000))\n",
    "# areaVsPrice.set_xlim(house_value.min(),house_value.max())\n",
    "#areaVsPrice.set_xlim(0,25000000)\n",
    "#b\n"
   ]
  },
  {
   "cell_type": "code",
   "execution_count": null,
   "metadata": {},
   "outputs": [],
   "source": []
  }
 ],
 "metadata": {
  "kernelspec": {
   "display_name": "base",
   "language": "python",
   "name": "python3"
  },
  "language_info": {
   "codemirror_mode": {
    "name": "ipython",
    "version": 3
   },
   "file_extension": ".py",
   "mimetype": "text/x-python",
   "name": "python",
   "nbconvert_exporter": "python",
   "pygments_lexer": "ipython3",
   "version": "3.10.9"
  },
  "orig_nbformat": 4
 },
 "nbformat": 4,
 "nbformat_minor": 2
}
