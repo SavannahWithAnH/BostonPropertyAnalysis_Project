{
 "cells": [
  {
   "cell_type": "code",
   "execution_count": null,
   "metadata": {},
   "outputs": [],
   "source": [
    "#importing modules\n",
    "import matplotlib.pyplot as plt\n",
    "import pandas as pd\n",
    "import numpy as np\n",
    "import csv\n",
    "import seaborn as sns"
   ]
  },
  {
   "cell_type": "code",
   "execution_count": null,
   "metadata": {},
   "outputs": [],
   "source": [
    "#Assigning the csv path to a variable\n",
    "csv_path = r\"//home//mo//Documents//UNC//project1//Project1-Group//Boston2019.csv\"\n",
    "\n",
    "#useing pandas to read the file\n",
    "df_read = pd.read_csv(csv_path, low_memory=False )\n",
    "\n",
    "#Cleaning the owner-occupied cloumn\n",
    "df_clean = df_read[(df_read[\"OWN_OCC\"] == \"Y\") & (df_read[\"STRUCTURE_CLASS\"] == \"R\") & (df_read[\"R_BDRMS\"] <= 7) & (df_read[\"R_BDRMS\"] != 0) & (df_read[\"AV_TOTAL\"] < 6000000)]\n",
    "\n",
    "df_clean = df_clean[[\"AV_TOTAL\", \"LIVING_AREA\", \"R_BDRMS\", \"ZIPCODE\",\"OWN_OCC\", \"STRUCTURE_CLASS\" , \"YR_BUILT\",\"R_BLDG_STYL\"]]\n",
    "# df_clean = df_clean.rename({\"AV_TOTAL\" : \"Property Value\" , \"LIVING_AREA\" : \" living\",})\n",
    "display(len(df_clean))\n",
    "\n"
   ]
  },
  {
   "cell_type": "code",
   "execution_count": null,
   "metadata": {},
   "outputs": [],
   "source": [
    "bins = [1800 ,1850 , 1900 , 1950 , 2000 , 2050]\n",
    "labels = [ \"1800-1850\", \"1850-1900\", \"1900-1950\", \"1950-2000\", \"2000-2050\"]\n",
    "df_clean[\"YR_BUILT_BINNED\"] = pd.cut(df_clean[\"YR_BUILT\"], bins=bins, labels=labels)\n",
    "df_1800_1850 = df_clean.groupby([\"YR_BUILT_BINNED\"]).get_group(\"1800-1850\")[[\"YR_BUILT_BINNED\", \"AV_TOTAL\" , \"LIVING_AREA\"]]\n",
    "df_1850_1900 = df_clean.groupby([\"YR_BUILT_BINNED\"]).get_group(\"1850-1900\")[[\"YR_BUILT_BINNED\", \"AV_TOTAL\", \"LIVING_AREA\"]]\n",
    "df_1900_1950 = df_clean.groupby([\"YR_BUILT_BINNED\"]).get_group(\"1900-1950\")[[\"YR_BUILT_BINNED\", \"AV_TOTAL\", \"LIVING_AREA\"]]\n",
    "df_1950_2000 = df_clean.groupby([\"YR_BUILT_BINNED\"]).get_group(\"1950-2000\")[[\"YR_BUILT_BINNED\", \"AV_TOTAL\", \"LIVING_AREA\"]]\n",
    "df_2000_2050 = df_clean.groupby([\"YR_BUILT_BINNED\"]).get_group(\"2000-2050\")[[\"YR_BUILT_BINNED\", \"AV_TOTAL\",\"LIVING_AREA\"]]\n",
    "\n",
    "# Print the resulting DataFrames\n",
    "print(df_1800_1850)\n",
    "print(df_1850_1900)\n",
    "print(df_1900_1950)\n",
    "print(df_1950_2000)\n",
    "print(df_2000_2050)"
   ]
  },
  {
   "cell_type": "code",
   "execution_count": null,
   "metadata": {},
   "outputs": [],
   "source": [
    "#im not able to show year range on the statstics below, showing which year range is best to buy in which is 1900 - 1950\n",
    "df_1800_1850_count= df_clean.groupby([\"YR_BUILT_BINNED\"]).get_group(\"1800-1850\")[[\"YR_BUILT_BINNED\"]].count()\n",
    "df_1850_1900_count = df_clean.groupby([\"YR_BUILT_BINNED\"]).get_group(\"1850-1900\")[[\"LIVING_AREA\"]].count()\n",
    "df_1900_1950_count = df_clean.groupby([\"YR_BUILT_BINNED\"]).get_group(\"1900-1950\")[[\"LIVING_AREA\"]].count()\n",
    "df_1950_2000_count = df_clean.groupby([\"YR_BUILT_BINNED\"]).get_group(\"1950-2000\")[[\"LIVING_AREA\"]].count()\n",
    "df_2000_2050_count = df_clean.groupby([\"YR_BUILT_BINNED\"]).get_group(\"2000-2050\")[[\"LIVING_AREA\"]].count()\n",
    "\n",
    "print(df_1800_1850_count)\n",
    "print(df_1850_1900_count)\n",
    "print(df_1900_1950_count)\n",
    "print(df_1950_2000_count)\n",
    "print(df_2000_2050_count)\n"
   ]
  },
  {
   "cell_type": "code",
   "execution_count": null,
   "metadata": {},
   "outputs": [],
   "source": [
    "#calculating the average property value\n",
    "df_clean[\"AV_TOTAL\"].mean().round(2)"
   ]
  },
  {
   "cell_type": "code",
   "execution_count": null,
   "metadata": {},
   "outputs": [],
   "source": [
    "zipcode_group = df_clean.groupby(\"ZIPCODE\")[[\"AV_TOTAL\" , \"LIVING_AREA\"]].mean().round(2)\n",
    "\n",
    "zipcode_group.sort_values([\"AV_TOTAL\"])\n",
    "\n",
    "zipcode_group\n"
   ]
  },
  {
   "cell_type": "code",
   "execution_count": null,
   "metadata": {},
   "outputs": [],
   "source": [
    "zipcode_group[\"price_per_sqft\"] = zipcode_group['AV_TOTAL'] / zipcode_group['LIVING_AREA']\n",
    "zipcode_group[\"# Houses per zip code\"] = df_clean.groupby(\"ZIPCODE\")[[\"AV_TOTAL\" ]].count().round(2)\n",
    "zipcode_group.sort_values('# Houses per zip code' , ascending=False)"
   ]
  },
  {
   "cell_type": "code",
   "execution_count": null,
   "metadata": {},
   "outputs": [],
   "source": [
    "per_sqft_data = zipcode_group[[\"price_per_sqft\" , \"# Houses per zip code\"]]\n",
    "per_sqft_data.sort_values(\"price_per_sqft\")"
   ]
  },
  {
   "cell_type": "code",
   "execution_count": null,
   "metadata": {},
   "outputs": [],
   "source": [
    "#grouping the house value and size by the zipcodes to decide \n",
    "zipcode_group_count= df_clean.groupby(\"ZIPCODE\")[[\"AV_TOTAL\" ]].count()\n",
    "\n",
    "zipcode_group_count.sort_values([\"AV_TOTAL\"] , ascending=False)\n",
    "\n"
   ]
  },
  {
   "cell_type": "code",
   "execution_count": null,
   "metadata": {},
   "outputs": [],
   "source": [
    "# x = per_sqft_data['ZIPCODE']\n",
    "# y1 = per_sqft_data['price_per_sqft']\n",
    "# y2 = per_sqft_data['zip_count']\n",
    "\n",
    "# bar_width = .5\n",
    "# x_postion = np.arange(x)\n",
    "\n",
    "# fig, fig1 = plt.subplots(figsize=(8,6))\n",
    "# #fig1.bar(y1, width=bar_width, align='center',  label='Y1 Label')\n",
    "# fig1 = per_sqft_data.plot( kind= \"bar\" ,rot= 90 , width = 1 , align='center' )\n",
    "\n",
    "# #fig2 = fig1.twinx()\n",
    "# # fig2.bar(y2, width=bar_width, align='center', color='red', alpha=0.5, label='Y2 Label')\n",
    "# fig2 = zipcode_group_count.plot( kind= \"bar\" ,rot= 90 , width = 1 , align='center' )\n",
    "\n",
    "\n",
    "# plt.show()"
   ]
  },
  {
   "cell_type": "code",
   "execution_count": null,
   "metadata": {},
   "outputs": [],
   "source": [
    "# plotting average price per sqft and count # houses sold in each zip code with zip code \n",
    "zip_fig = per_sqft_data.plot( kind= \"bar\" , secondary_y= \"# Houses per zip code\" ,rot= 90 , width = 1 , align='center',figsize=(14, 6) )\n",
    "zip_fig.set_xlabel('ZIP CODE')\n",
    "zip_fig.set_ylabel('Price Per sq/ft')\n",
    "#zip_fig.set_ylim(0, 1500)\n",
    "zip_fig.set_title('Average Price Per sqft & # houses per zipcode vs Zip Codes')\n",
    "\n",
    "\n",
    "plt.show()"
   ]
  },
  {
   "cell_type": "code",
   "execution_count": null,
   "metadata": {},
   "outputs": [],
   "source": [
    "#grouping number of bedrooms \n",
    "count_num_bdrms = df_clean.groupby(\"R_BDRMS\")[\"AV_TOTAL\"].count()\n",
    "count_num_bdrms.head()\n"
   ]
  },
  {
   "cell_type": "code",
   "execution_count": null,
   "metadata": {},
   "outputs": [],
   "source": [
    "#plotting number of bedrooms vs amount of houses sold\n",
    "bed_fig =count_num_bdrms.plot(kind=\"bar\" , rot=0)\n",
    "bed_fig.set_xlabel(\"# Bedrooms\")\n",
    "bed_fig.set_ylabel(\"# of houses\")\n",
    "bed_fig.set_title(\"Number of bedrooms vs. Number of houses sold\")\n",
    "plt.show"
   ]
  },
  {
   "cell_type": "code",
   "execution_count": null,
   "metadata": {},
   "outputs": [],
   "source": [
    "#Assiging variables \n",
    "house_value = df_clean[\"AV_TOTAL\"]\n",
    "living_area = df_clean[\"LIVING_AREA\"]\n",
    "\n",
    "#using seaborn to generate a scatter plot with alpha option to show the dense section of the plot\n",
    "areaVsPrice = sns.regplot(x=house_value , y=living_area,scatter_kws={'alpha':0.15}, fit_reg= False)\n",
    "\n",
    "#sitting labels\n",
    "areaVsPrice.set(xlabel= \"Total Price USD\", ylabel=\"Living Area sq/ft\")\n",
    "\n",
    "#defining the start and end in the x-axis by using the min and max\n",
    "areaVsPrice.set_xticks(np.arange(int(house_value.min()), int(house_value.max()), 500000))\n",
    "areaVsPrice.set_xticklabels(np.arange(int(house_value.min() - 1000), int(house_value.max()), 500000), rotation=45)\n",
    "\n",
    "#setting the title\n",
    "areaVsPrice.set_title(\"Living Area vs. Total Price\")\n",
    "\n",
    "\n",
    "plt.show()\n"
   ]
  },
  {
   "cell_type": "code",
   "execution_count": null,
   "metadata": {},
   "outputs": [],
   "source": [
    "# #using seaborn to generate a scatter plot with alpha option to show the dense section of the plot\n",
    "# sns.regplot(x=df_1800_1850[\"AV_TOTAL\"] , y=df_1800_1850[\"LIVING_AREA\"],scatter_kws={'alpha':0.15},color=\"red\", fit_reg= False, label=\"1800-1850\")\n",
    "# sns.regplot(x=df_1850_1900[\"AV_TOTAL\"] , y=df_1850_1900[\"LIVING_AREA\"],scatter_kws={'alpha':0.15},color=\"yellow\", fit_reg= False, label=\"1800-1850\")\n",
    "\n",
    "\n",
    "# #sitting labels\n",
    "# plt.xlabel(\"Total Price USD\")\n",
    "# plt.ylabel(\"Living Area sq/ft\")\n",
    "# plt.xticks(np.arange(int(df_clean[\"AV_TOTAL\"].min()), int(df_clean[\"AV_TOTAL\"].max()), 500000), rotation=45)\n",
    "# plt.title(\"Living Area vs. Total Price\")\n",
    "# plt.legend()\n",
    "# #defining the start and end in the x-axis by using the min and max\n",
    "\n",
    "# #setting the title\n",
    "# plt.title(\"Living Area vs. Total Price\")\n",
    "# plt.legend()\n",
    "# plt.show()"
   ]
  },
  {
   "cell_type": "markdown",
   "metadata": {},
   "source": []
  },
  {
   "cell_type": "code",
   "execution_count": null,
   "metadata": {},
   "outputs": [],
   "source": [
    "\n",
    "\n",
    "fig, ((ax1, ax2), (ax3, ax4), (ax5,_)) = plt.subplots(ncols=2 , nrows=3, figsize=(12, 12))\n",
    "\n",
    "# Set common x and y limits\n",
    "x_lim = (121000, 4000000)\n",
    "y_lim = (0, 7000)\n",
    "\n",
    "# Scatter plot of houses built between 1800-1850\n",
    "sns.regplot(x=df_1800_1850[\"AV_TOTAL\"], y=df_1800_1850[\"LIVING_AREA\"], scatter_kws={'alpha':0.15}, color=\"red\", fit_reg=False, ax=ax1)\n",
    "ax1.set_xlabel(\"Total Price USD\")\n",
    "ax1.set_ylabel(\"Living Area sq/ft\")\n",
    "ax1.set_xticks(np.arange(x_lim[0], x_lim[1], 500000))\n",
    "ax1.set_xticklabels(np.arange(x_lim[0], x_lim[1], 500000), rotation=45)\n",
    "ax1.set_ylim(y_lim)\n",
    "ax1.set_xlim(x_lim)\n",
    "ax1.set_title(\"Living Area vs. Total Price (1800-1850)\")\n",
    "\n",
    "# Scatter plot of houses built between 1850-1900\n",
    "sns.regplot(x=df_1850_1900[\"AV_TOTAL\"], y=df_1850_1900[\"LIVING_AREA\"], scatter_kws={'alpha':0.15}, color=\"green\", fit_reg=False, ax=ax2)\n",
    "ax2.set_xlabel(\"Total Price USD\")\n",
    "ax2.set_ylabel(\"Living Area sq/ft\")\n",
    "ax2.set_xticks(np.arange(x_lim[0], x_lim[1], 500000))\n",
    "ax2.set_xticklabels(np.arange(x_lim[0], x_lim[1], 500000), rotation=45)\n",
    "ax2.set_ylim(y_lim)\n",
    "ax2.set_xlim(x_lim)\n",
    "ax2.set_title(\"Living Area vs. Total Price (1850-1900)\")\n",
    "\n",
    "# Scatter plot of houses built between 1900-1950\n",
    "sns.regplot(x=df_1900_1950[\"AV_TOTAL\"], y=df_1900_1950[\"LIVING_AREA\"], scatter_kws={'alpha':0.15}, fit_reg=False, ax=ax3)\n",
    "ax3.set_xlabel(\"Total Price USD\")\n",
    "ax3.set_ylabel(\"Living Area sq/ft\")\n",
    "ax3.set_xticks(np.arange(x_lim[0], x_lim[1], 500000))\n",
    "ax3.set_xticklabels(np.arange(x_lim[0], x_lim[1], 500000), rotation=45)\n",
    "ax3.set_ylim(y_lim)\n",
    "ax3.set_xlim(x_lim)\n",
    "ax3.set_title(\"Living Area vs. Total Price (1900-1950)\")\n",
    "\n",
    "# Scatter plot of houses built between 1950-2000\n",
    "sns.regplot(x=df_1950_2000[\"AV_TOTAL\"], y=df_1950_2000[\"LIVING_AREA\"], scatter_kws={'alpha':0.15}, fit_reg=False, ax=ax4)\n",
    "ax4.set_xlabel(\"Total Price USD\")\n",
    "ax4.set_ylabel(\"Living Area sq/ft\")\n",
    "ax4.set_xticks(np.arange(x_lim[0], x_lim[1], 500000))\n",
    "ax4.set_xticklabels(np.arange(x_lim[0], x_lim[1], 500000), rotation=45)\n",
    "ax4.set_ylim(y_lim)\n",
    "ax4.set_xlim(x_lim)\n",
    "ax4.set_title(\"Living Area vs. Total Price (1950-2000)\")\n",
    "\n",
    "# Scatter plot of houses built between 2000-2050\n",
    "sns.regplot(x=df_2000_2050[\"AV_TOTAL\"], y=df_2000_2050[\"LIVING_AREA\"], scatter_kws={'alpha':0.15}, fit_reg=False, ax=ax5)\n",
    "ax5.set_xlabel(\"Total Price USD\")\n",
    "ax5.set_ylabel(\"Living Area sq/ft\")\n",
    "ax5.set_xticks(np.arange(x_lim[0], x_lim[1], 500000))\n",
    "ax5.set_xticklabels(np.arange(x_lim[0], x_lim[1], 500000), rotation=45)\n",
    "ax5.set_title(\"Living Area vs. Total Price (2000-2050)\")\n",
    "\n",
    "# Show the plot\n",
    "plt.tight_layout()\n",
    "plt.show()\n"
   ]
  },
  {
   "attachments": {},
   "cell_type": "markdown",
   "metadata": {},
   "source": [
    "### if you are buying a house that in the time range \"1800-1850\" , you shouldn't pay more than 600k and average house area of 1500 sqft . in generall based on the graph is not a good invesment to buy in this time range. \\n\n",
    "\n",
    "### if you are buying a house that in the time range \"1850-1900\" , you should expect to pay around 420k and 621k and average house area 2000- 3000 sqft . it recommended to buy in this time range\n",
    "\n",
    "# if you are buying a house that in the time range \"1900-1950\" , you should expect to pay around 300k and 500k and average house area 1500 - 2500 sqft. the best to buy in this range\n",
    "\n",
    "### if you are buying a house that in the time range \"1950-2000\" , you should expect to pay around 300k and 500k and average house area 1000 - 1500 sqft. it is also recommended to buy in this time range\n",
    "\n",
    "## if you are buying a house that in the time range \"2000-2050\" , you should expect to pay around 400k and 600k and average house area 1200 - 1500 sqft. it is also recommended to buy in this time range. note this time range is missing 27 years compared to other time range but it's still recomnded to buy \n",
    "\n"
   ]
  },
  {
   "cell_type": "code",
   "execution_count": null,
   "metadata": {},
   "outputs": [],
   "source": []
  },
  {
   "cell_type": "code",
   "execution_count": null,
   "metadata": {},
   "outputs": [],
   "source": []
  },
  {
   "cell_type": "code",
   "execution_count": null,
   "metadata": {},
   "outputs": [],
   "source": []
  }
 ],
 "metadata": {
  "kernelspec": {
   "display_name": "base",
   "language": "python",
   "name": "python3"
  },
  "language_info": {
   "codemirror_mode": {
    "name": "ipython",
    "version": 3
   },
   "file_extension": ".py",
   "mimetype": "text/x-python",
   "name": "python",
   "nbconvert_exporter": "python",
   "pygments_lexer": "ipython3",
   "version": "3.10.9"
  },
  "orig_nbformat": 4
 },
 "nbformat": 4,
 "nbformat_minor": 2
}
